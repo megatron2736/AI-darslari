{
 "cells": [
  {
   "cell_type": "code",
   "execution_count": null,
   "id": "5a40a8f9-8323-464d-8fdc-03b0d3fe808f",
   "metadata": {},
   "outputs": [],
   "source": [
    "# Sonni berilgan darajaga ko'taring(turli xil usullar bn)\n",
    "#Berilgan sonni ildizini toping\n",
    "# 2 ta int berilganda True qaytaring agar ular bir xil oxirgi raqamga ega bo'lsa\n",
    "# Berilgan 3 xonali sonning raqamlar yigindisini aniqlang\n",
    "# Berilgan  2 ta xarfan uzun bo'lgan so'zni dastlabki 2 ta xarfidan tashkil topgan soz tuzing agar 2 tadan kam bolsa $ belgisini ishlatiling agar so'z faqat ''  dan iborat bolsa 2 ta $ ni qaytaring\n",
    "#a,b,c  musbat tomonli uchburchak teng tomonli bo'ladi/togri burchakli/ teng yonli\n",
    "# a va b  musbat sonning faqat bittasi/ikkalasi toq son\n",
    "# a va b  musbat sonlarning ikkalasi xam toq xam musbat\n",
    "#Berilgan  musbat sonni oxirgi raqami 0 bilan tugasa '10 ga bo'linadigan son  5 bn tugasa  '5 ga bo'linadigan bo'lsa ' aks xolda 'qaytadan son kiriting deagn yozuvni ekranga chiqaring(2 ta usulda koring)\n",
    "#Agar berilgan  juft uzunllikka ega bo'lgan so'zning bosh xarfi 'a' yoki 'A' bo'sa bosh xarf agar z yoki Z bo'lsa oxirgi xarf aks xolda xatolik deb ekranga chiqaring"
   ]
  },
  {
   "cell_type": "markdown",
   "id": "50d4a97a-d4c2-486b-8184-a066e1dd129e",
   "metadata": {},
   "source": [
    "# Sonni berilgan darajaga ko'taring(turli xil usullar bn)"
   ]
  },
  {
   "cell_type": "code",
   "execution_count": 8,
   "id": "729421bc-3112-4307-bf11-eb0c9ea34f39",
   "metadata": {},
   "outputs": [
    {
     "name": "stdin",
     "output_type": "stream",
     "text": [
      "sonni kiriting 5\n",
      "darajani kiriting 2\n"
     ]
    },
    {
     "name": "stdout",
     "output_type": "stream",
     "text": [
      "5 ning 2 chi darasaji bu: 25\n"
     ]
    }
   ],
   "source": [
    "a=int(input('sonni kiriting')) \n",
    "b=int(input('darajani kiriting'))\n",
    "print(a,'ning', b, 'chi darasaji bu:',a**b)"
   ]
  },
  {
   "cell_type": "markdown",
   "id": "0b0df05c-2d54-4571-8762-45162ce53bd9",
   "metadata": {},
   "source": [
    "#2usul\n",
    "# Sonni berilgan darajaga ko'taring(turli xil usullar bn)\n"
   ]
  },
  {
   "cell_type": "code",
   "execution_count": null,
   "id": "6a59d615-277b-4817-9561-5119aa3ff045",
   "metadata": {},
   "outputs": [],
   "source": []
  },
  {
   "cell_type": "markdown",
   "id": "01d24d1c-cf42-44ee-8252-a1cb8ba46b91",
   "metadata": {},
   "source": [
    "#Berilgan sonni ildizini toping"
   ]
  },
  {
   "cell_type": "code",
   "execution_count": 22,
   "id": "f12d7fc0-e2b8-4017-b2b1-70fd47c0f127",
   "metadata": {},
   "outputs": [
    {
     "name": "stdin",
     "output_type": "stream",
     "text": [
      "sonni kiriting 5\n"
     ]
    },
    {
     "name": "stdout",
     "output_type": "stream",
     "text": [
      "5 sonining ildizi bu: 2.23606797749979\n"
     ]
    }
   ],
   "source": [
    "a=int(input('sonni kiriting')) \n",
    "print(a,'sonining ildizi bu:', a**0.5)"
   ]
  },
  {
   "cell_type": "markdown",
   "id": "f35cc189-2eb2-4bb2-b61e-91d7671ea593",
   "metadata": {},
   "source": [
    "# 2 ta int berilganda True qaytaring agar ular bir xil oxirgi raqamga ega bo'lsa"
   ]
  },
  {
   "cell_type": "code",
   "execution_count": 31,
   "id": "068037b0-26e5-49e9-b100-ef4b012f0d8b",
   "metadata": {},
   "outputs": [
    {
     "name": "stdin",
     "output_type": "stream",
     "text": [
      "birinchi sonni kiriting 5\n",
      "ikkinchi sonni kiriting 25\n"
     ]
    },
    {
     "name": "stdout",
     "output_type": "stream",
     "text": [
      "True\n"
     ]
    }
   ],
   "source": [
    "a=int(input('birinchi sonni kiriting')) \n",
    "b=int(input('ikkinchi sonni kiriting')) \n",
    "if a%10==b%10:\n",
    "    print('True') \n",
    "else: \n",
    "    print('False') "
   ]
  },
  {
   "cell_type": "markdown",
   "id": "1cc19c72-a5d9-44a2-b714-e6d2f7589825",
   "metadata": {},
   "source": [
    "# Berilgan 3 xonali sonning raqamlar yigindisini aniqlang"
   ]
  },
  {
   "cell_type": "code",
   "execution_count": 42,
   "id": "6eede86b-4a60-4c89-b141-53999544d5c9",
   "metadata": {},
   "outputs": [
    {
     "name": "stdin",
     "output_type": "stream",
     "text": [
      "3xonali sonni kiriting 256\n"
     ]
    },
    {
     "name": "stdout",
     "output_type": "stream",
     "text": [
      "13\n"
     ]
    }
   ],
   "source": [
    "a=int(input('3xonali sonni kiriting')) \n",
    "print(a//100+a//10%10+a%10)"
   ]
  },
  {
   "cell_type": "markdown",
   "id": "60dede16-70e1-4cc7-b7c2-ce84ab63458e",
   "metadata": {},
   "source": [
    "# Berilgan  2 ta xarfdan uzun bo'lgan so'zni dastlabki 2 ta xarfidan tashkil topgan soz tuzing agar 2 tadan kam bolsa $ belgisini ishlatiling agar so'z faqat ''  dan iborat bolsa 2 ta $ ni qaytaring\n"
   ]
  },
  {
   "cell_type": "code",
   "execution_count": 103,
   "id": "a0dc4b35-16bc-4ce6-96ee-3e1adfe08ffb",
   "metadata": {},
   "outputs": [
    {
     "name": "stdin",
     "output_type": "stream",
     "text": [
      "sozni kiriting 555\n"
     ]
    },
    {
     "name": "stdout",
     "output_type": "stream",
     "text": [
      "55\n"
     ]
    }
   ],
   "source": [
    "a=str(input('sozni kiriting'))\n",
    "if len(a)>2:\n",
    "    print(a[0]+a[1]) \n",
    "elif len(a)<2:\n",
    "    print('$')\n",
    "elif a=='':\n",
    "    print('$$')\n",
    "    \n"
   ]
  },
  {
   "cell_type": "code",
   "execution_count": null,
   "id": "f29cc3c1-5e4c-4fa2-a488-52e32c3f215d",
   "metadata": {},
   "outputs": [],
   "source": []
  }
 ],
 "metadata": {
  "kernelspec": {
   "display_name": "Python [conda env:base] *",
   "language": "python",
   "name": "conda-base-py"
  },
  "language_info": {
   "codemirror_mode": {
    "name": "ipython",
    "version": 3
   },
   "file_extension": ".py",
   "mimetype": "text/x-python",
   "name": "python",
   "nbconvert_exporter": "python",
   "pygments_lexer": "ipython3",
   "version": "3.12.7"
  }
 },
 "nbformat": 4,
 "nbformat_minor": 5
}
